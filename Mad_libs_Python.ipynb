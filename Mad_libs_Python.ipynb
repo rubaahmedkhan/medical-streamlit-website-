{
  "nbformat": 4,
  "nbformat_minor": 0,
  "metadata": {
    "colab": {
      "provenance": [],
      "authorship_tag": "ABX9TyP5DxWkU3SxEewDXW9PuAky",
      "include_colab_link": true
    },
    "kernelspec": {
      "name": "python3",
      "display_name": "Python 3"
    },
    "language_info": {
      "name": "python"
    }
  },
  "cells": [
    {
      "cell_type": "markdown",
      "metadata": {
        "id": "view-in-github",
        "colab_type": "text"
      },
      "source": [
        "<a href=\"https://colab.research.google.com/github/rubaahmedkhan/medical-streamlit-website-/blob/main/Mad_libs_Python.ipynb\" target=\"_parent\"><img src=\"https://colab.research.google.com/assets/colab-badge.svg\" alt=\"Open In Colab\"/></a>"
      ]
    },
    {
      "cell_type": "markdown",
      "source": [
        "# **Mad Libs Python**"
      ],
      "metadata": {
        "id": "b3wsYBBUybxU"
      }
    },
    {
      "cell_type": "code",
      "execution_count": null,
      "metadata": {
        "colab": {
          "base_uri": "https://localhost:8080/"
        },
        "id": "VvqDuK91qxN_",
        "outputId": "9fa4327a-5c48-4317-e857-5c4aa88dfe70"
      },
      "outputs": [
        {
          "output_type": "stream",
          "name": "stdout",
          "text": [
            "Welcome to the Mad Libs game!\n"
          ]
        }
      ],
      "source": [
        "print(\"Welcome to the Mad Libs game!\")"
      ]
    },
    {
      "cell_type": "code",
      "source": [
        "# Taking inputs from the user\n",
        "name: str = input(\"Enter a name: \")\n",
        "place: str = input(\"Enter a place: \")\n",
        "animal: str = input(\"Enter an animal: \")\n",
        "activity: str = input(f\"Enter an activity that {animal} does: \")\n",
        "\n",
        "# Generating the story with the correct pronouns\n",
        "story = f\"\"\"\n",
        "Once upon a time, {name} went to {place}.\n",
        "There, he saw a {animal} who was {activity}.\n",
        "The {animal} was so happy, and {name} watched curiously, fascinated by what was happening\n",
        "\"\"\"\n",
        "\n",
        "# Display the story\n",
        "print(\"\\nYour Mad Libs Story:\\n\")\n",
        "print(story)\n",
        "\n"
      ],
      "metadata": {
        "colab": {
          "base_uri": "https://localhost:8080/"
        },
        "id": "JKTxvhGw825-",
        "outputId": "842e2faa-4b0b-432d-b9db-1cbef0711151"
      },
      "execution_count": null,
      "outputs": [
        {
          "output_type": "stream",
          "name": "stdout",
          "text": [
            "Enter a name: ALI\n",
            "Enter a place: zoo\n",
            "Enter an animal: lion\n",
            "Enter an activity that lion does: playing with its cubs\n",
            "\n",
            "Your Mad Libs Story:\n",
            "\n",
            "\n",
            "Once upon a time, ALI went to zoo.\n",
            "There, he saw a lion who was playing with its cubs.\n",
            "The lion was so happy, and ALI watched curiously, fascinated by what was happening\n",
            "\n"
          ]
        }
      ]
    }
  ]
}