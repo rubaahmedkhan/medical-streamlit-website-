{
  "nbformat": 4,
  "nbformat_minor": 0,
  "metadata": {
    "colab": {
      "provenance": [],
      "authorship_tag": "ABX9TyNibok/YfaKxuilntNVP3wz",
      "include_colab_link": true
    },
    "kernelspec": {
      "name": "python3",
      "display_name": "Python 3"
    },
    "language_info": {
      "name": "python"
    }
  },
  "cells": [
    {
      "cell_type": "markdown",
      "metadata": {
        "id": "view-in-github",
        "colab_type": "text"
      },
      "source": [
        "<a href=\"https://colab.research.google.com/github/rubaahmedkhan/python-projects-streamlit-website/blob/main/Rock_scissors.ipynb\" target=\"_parent\"><img src=\"https://colab.research.google.com/assets/colab-badge.svg\" alt=\"Open In Colab\"/></a>"
      ]
    },
    {
      "cell_type": "markdown",
      "source": [
        "# **Rock, Paper, Scissors**"
      ],
      "metadata": {
        "id": "5nVxyd7qH5p4"
      }
    },
    {
      "cell_type": "code",
      "source": [
        "import random\n",
        "\n",
        "# Function to determine the winner\n",
        "def rps() -> None:\n",
        "\n",
        "    opts: list[str] = ['rock', 'paper', 'scissors']\n",
        "    score_user, score_comp = 0, 0  # Track scores\n",
        "    rounds = int(input(\"Enter number of rounds to play: \"))  # Set number of rounds\n",
        "\n",
        "    while rounds > 0:\n",
        "      user: str = input(\"\\nChoose 'rock', 'paper', or 'scissors' (or 'quit' to exit): \").lower()  # User input\n",
        "      if user == 'quit':  # Exit the game if 'quit' is entered\n",
        "        print(\"Exiting the game.\")\n",
        "        break\n",
        "      if user not in opts:  # Validate input\n",
        "        print(\"Invalid choice! Try again.\")\n",
        "        continue\n",
        "\n",
        "      comp = random.choice(opts)  # Computer randomly selects move\n",
        "      print(f\"You: {user} | Computer: {comp}\")\n",
        "\n",
        "      # Decide winner\n",
        "      if user == comp:\n",
        "        print(\"Tie!\")\n",
        "      elif (user == 'rock' and comp =='scissors')  or (user == 'scissors' and comp == 'paper') or (user == 'paper' and comp == 'rock'):\n",
        "        print(\"You win!\")\n",
        "        score_user += 1\n",
        "      else:\n",
        "        print(\"You lose!\")\n",
        "        score_comp += 1\n",
        "      rounds -= 1  # Decrement rounds\n",
        "\n",
        "    # Display final score\n",
        "    print(f\"\\nFinal Score - You: {score_user} | Computer: {score_comp}\")\n",
        "    if score_user > score_comp:\n",
        "      print(\"You are the overall winner!\")\n",
        "    elif score_user < score_comp:\n",
        "      print(\"Computer wins overall!\")\n",
        "    else:\n",
        "      print(\"It's a tie overall!\")\n",
        "\n",
        "# Start the game\n",
        "rps()"
      ],
      "metadata": {
        "colab": {
          "base_uri": "https://localhost:8080/"
        },
        "outputId": "38ac8f8d-308f-43a3-c90a-6ff7df980c00",
        "id": "QZ5JBS13WkiF"
      },
      "execution_count": null,
      "outputs": [
        {
          "output_type": "stream",
          "name": "stdout",
          "text": [
            "Enter number of rounds to play: 3\n",
            "\n",
            "Choose 'rock', 'paper', or 'scissors' (or 'quit' to exit): paper\n",
            "You: paper | Computer: scissors\n",
            "You lose!\n",
            "\n",
            "Choose 'rock', 'paper', or 'scissors' (or 'quit' to exit): kuyho97\n",
            "Invalid choice! Try again.\n",
            "\n",
            "Choose 'rock', 'paper', or 'scissors' (or 'quit' to exit): rock\n",
            "You: rock | Computer: scissors\n",
            "You win!\n",
            "\n",
            "Choose 'rock', 'paper', or 'scissors' (or 'quit' to exit): scissors\n",
            "You: scissors | Computer: rock\n",
            "You lose!\n",
            "\n",
            "Final Score - You: 1 | Computer: 2\n",
            "Computer wins overall!\n"
          ]
        }
      ]
    }
  ]
}