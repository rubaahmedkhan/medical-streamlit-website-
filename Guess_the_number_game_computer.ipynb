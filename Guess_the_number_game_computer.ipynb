{
  "nbformat": 4,
  "nbformat_minor": 0,
  "metadata": {
    "colab": {
      "provenance": [],
      "authorship_tag": "ABX9TyPlNBhvkiip4CH0RtQWpXxH",
      "include_colab_link": true
    },
    "kernelspec": {
      "name": "python3",
      "display_name": "Python 3"
    },
    "language_info": {
      "name": "python"
    }
  },
  "cells": [
    {
      "cell_type": "markdown",
      "metadata": {
        "id": "view-in-github",
        "colab_type": "text"
      },
      "source": [
        "<a href=\"https://colab.research.google.com/github/rubaahmedkhan/python-projects-streamlit-website/blob/main/Guess_the_number_game_computer.ipynb\" target=\"_parent\"><img src=\"https://colab.research.google.com/assets/colab-badge.svg\" alt=\"Open In Colab\"/></a>"
      ]
    },
    {
      "cell_type": "markdown",
      "source": [
        "# **Guess The Number Game (computer)**"
      ],
      "metadata": {
        "id": "zpKUf3kex33H"
      }
    },
    {
      "cell_type": "code",
      "source": [
        "import random\n",
        "\n",
        "print(\"Welcome to the Guess the Number Game!\")\n",
        "\n",
        "# computer generates a random number\n",
        "number_to_guess: int = random.randint(1, 100)\n",
        "attempts: int = 0\n",
        "\n",
        "print(\"I have selected a number between 1 and 100. Can you guess it?\")\n",
        "\n",
        "while True:\n",
        "    # User input\n",
        "    user_input: str = input(\"Enter your guess: \")\n",
        "\n",
        "    # check if the input is a valid integer\n",
        "    if not user_input.isdigit():\n",
        "        print(\"Invalid input! Please enter a number.\")\n",
        "        continue\n",
        "\n",
        "    guess: int = int(user_input)\n",
        "    attempts += 1\n",
        "\n",
        "    # check if the guess is correct\n",
        "    if guess < number_to_guess:\n",
        "        print(\"Too low! Try again.\")\n",
        "    elif guess > number_to_guess:\n",
        "        print(\"Too high! Try again.\")\n",
        "\n",
        "    else:\n",
        "        print(f\"Congratulations! You guessed the number in {attempts} attempts.\")\n",
        "        break\n",
        "\n",
        "\n"
      ],
      "metadata": {
        "colab": {
          "base_uri": "https://localhost:8080/"
        },
        "id": "Fj_Tjpd9HvOD",
        "outputId": "c8172cf7-25d4-409d-f151-a9a964c43543"
      },
      "execution_count": null,
      "outputs": [
        {
          "output_type": "stream",
          "name": "stdout",
          "text": [
            "Welcome to the Guess the Number Game!\n",
            "I have selected a number between 1 and 100. Can you guess it?\n",
            "Enter your guess: 56\n",
            "Too high! Try again.\n",
            "Enter your guess: 40\n",
            "Too high! Try again.\n",
            "Enter your guess: 30\n",
            "Too high! Try again.\n",
            "Enter your guess: 20\n",
            "Too high! Try again.\n",
            "Enter your guess: 10\n",
            "Too low! Try again.\n",
            "Enter your guess: 15\n",
            "Too low! Try again.\n",
            "Enter your guess: 19\n",
            "Congratulations! You guessed the number in 7 attempts.\n"
          ]
        }
      ]
    }
  ]
}