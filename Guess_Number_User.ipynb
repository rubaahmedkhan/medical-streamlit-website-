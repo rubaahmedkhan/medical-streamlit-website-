{
  "cells": [
    {
      "cell_type": "markdown",
      "metadata": {
        "id": "view-in-github",
        "colab_type": "text"
      },
      "source": [
        "<a href=\"https://colab.research.google.com/github/rubaahmedkhan/python-projects-streamlit-website/blob/main/Guess_Number_User.ipynb\" target=\"_parent\"><img src=\"https://colab.research.google.com/assets/colab-badge.svg\" alt=\"Open In Colab\"/></a>"
      ]
    },
    {
      "cell_type": "markdown",
      "metadata": {
        "id": "-X7HeXJw6NZF"
      },
      "source": [
        "# **Guess the Number Game (user)**"
      ]
    },
    {
      "cell_type": "code",
      "execution_count": null,
      "metadata": {
        "colab": {
          "base_uri": "https://localhost:8080/"
        },
        "id": "bQeKHDhqPXkr",
        "outputId": "11ff6a5e-58cd-4d2c-da81-bfd571ad4f2a"
      },
      "outputs": [
        {
          "output_type": "stream",
          "name": "stdout",
          "text": [
            "Is 57 too high (H), too low (L), or correct (C)? l\n",
            "Is 95 too high (H), too low (L), or correct (C)? l\n",
            "Is 100 too high (H), too low (L), or correct (C)? c\n",
            "Yay! The computer guessed your number, 100, correctly!\n"
          ]
        }
      ],
      "source": [
        "import random\n",
        "\n",
        "def user_guess(number_range: int) -> None:\n",
        "    \"\"\"Let the user guess a number between 1 and number_range.\"\"\"\n",
        "    secret_number: int = random.randint(1, number_range)\n",
        "    user_guess: int = 0\n",
        "\n",
        "    while user_guess != secret_number:\n",
        "        user_guess = int(input(f'Guess a number between 1 and {number_range}: '))\n",
        "        if user_guess < secret_number:\n",
        "            print('Sorry, guess again. Too low.')\n",
        "        elif user_guess > secret_number:\n",
        "            print(\"Sorry, guess again. Too high.\")\n",
        "\n",
        "    print(f'Yay! Congrats! You have guessed the number {secret_number} correctly.')\n",
        "\n",
        "def computer_guesses_user_number(number_range: int) -> None:\n",
        "    \"\"\"Let the computer guess the number between 1 and number_range based on user feedback.\"\"\"\n",
        "    lower_bound: int = 1\n",
        "    upper_bound: int = number_range\n",
        "    user_feedback: str = ''\n",
        "\n",
        "    while user_feedback != 'c':\n",
        "        if lower_bound != upper_bound:\n",
        "            computer_guess: int = random.randint(lower_bound, upper_bound)\n",
        "            user_feedback = input(f'Is {computer_guess} too high (H), too low (L), or correct (C)? ').lower()\n",
        "\n",
        "            # Ensure the feedback is valid\n",
        "            while user_feedback not in ['h', 'l', 'c']:\n",
        "                print(\"Invalid input. Please enter 'H' for too high, 'L' for too low, or 'C' for correct.\")\n",
        "                user_feedback = input(f'Is {computer_guess} too high (H), too low (L), or correct (C)? ').lower()\n",
        "\n",
        "            if user_feedback == 'h':\n",
        "                upper_bound = computer_guess - 1\n",
        "            elif user_feedback == 'l':\n",
        "                lower_bound = computer_guess + 1\n",
        "\n",
        "    print(f'Yay! The computer guessed your number, {computer_guess}, correctly!')\n",
        "\n",
        "# Example usage:\n",
        "computer_guesses_user_number(100)\n"
      ]
    }
  ],
  "metadata": {
    "colab": {
      "provenance": [],
      "authorship_tag": "ABX9TyO9WU1jIRn37cUyir+hRkHO",
      "include_colab_link": true
    },
    "kernelspec": {
      "display_name": "Python 3",
      "name": "python3"
    },
    "language_info": {
      "name": "python"
    }
  },
  "nbformat": 4,
  "nbformat_minor": 0
}