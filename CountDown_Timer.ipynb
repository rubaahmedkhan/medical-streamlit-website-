{
  "nbformat": 4,
  "nbformat_minor": 0,
  "metadata": {
    "colab": {
      "provenance": [],
      "authorship_tag": "ABX9TyMm2+690AjD4Kx0qYyuCCCO",
      "include_colab_link": true
    },
    "kernelspec": {
      "name": "python3",
      "display_name": "Python 3"
    },
    "language_info": {
      "name": "python"
    }
  },
  "cells": [
    {
      "cell_type": "markdown",
      "metadata": {
        "id": "view-in-github",
        "colab_type": "text"
      },
      "source": [
        "<a href=\"https://colab.research.google.com/github/rubaahmedkhan/python-projects-streamlit-website/blob/main/CountDown_Timer.ipynb\" target=\"_parent\"><img src=\"https://colab.research.google.com/assets/colab-badge.svg\" alt=\"Open In Colab\"/></a>"
      ]
    },
    {
      "cell_type": "code",
      "source": [
        "import time  # Import the time module to handle the countdown\n",
        "\n",
        "# Function to implement countdown timer\n",
        "def countdown_timer(seconds):\n",
        "    while seconds >= 0:  # Continue until seconds reaches 0\n",
        "        print(f\"Time remaining: {seconds} seconds\")  # Overwrite the previous second\n",
        "        time.sleep(1)  # Wait for 1 second\n",
        "        seconds -= 1  # Decrease the second by 1\n",
        "\n",
        "    print(\"\\nTime's up! 🎉\")  # Message after the countdown finishes\n",
        "\n",
        "# Input validation: Ensure the user enters a valid integer greater than 0\n",
        "while True:\n",
        "    try:\n",
        "\n",
        "        time_in_seconds = int(input(\"Enter time in seconds: \"))  # Input time in seconds\n",
        "        if time_in_seconds <= 0:\n",
        "            print(\"Please enter a number greater than 0.\")\n",
        "        else:\n",
        "            break  # Exit the loop if valid input is entered\n",
        "    except ValueError:\n",
        "        print(\"Invalid input. Please enter a valid number.\")\n",
        "\n",
        "# Start the countdown\n",
        "countdown_timer(time_in_seconds)\n"
      ],
      "metadata": {
        "colab": {
          "base_uri": "https://localhost:8080/"
        },
        "id": "bOV-mn448ans",
        "outputId": "a0f66aa8-7a9f-434c-e966-8984f0160394"
      },
      "execution_count": null,
      "outputs": [
        {
          "output_type": "stream",
          "name": "stdout",
          "text": [
            "Enter time in seconds: hello\n",
            "Invalid input. Please enter a valid number.\n",
            "Enter time in seconds: -8\n",
            "Please enter a number greater than 0.\n",
            "Enter time in seconds: 10\n",
            "Time remaining: 10 seconds\n",
            "Time remaining: 9 seconds\n",
            "Time remaining: 8 seconds\n",
            "Time remaining: 7 seconds\n",
            "Time remaining: 6 seconds\n",
            "Time remaining: 5 seconds\n",
            "Time remaining: 4 seconds\n",
            "Time remaining: 3 seconds\n",
            "Time remaining: 2 seconds\n",
            "Time remaining: 1 seconds\n",
            "Time remaining: 0 seconds\n",
            "\n",
            "Time's up! 🎉\n"
          ]
        }
      ]
    }
  ]
}