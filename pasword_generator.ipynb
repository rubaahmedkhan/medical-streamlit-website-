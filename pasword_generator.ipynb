{
  "nbformat": 4,
  "nbformat_minor": 0,
  "metadata": {
    "colab": {
      "provenance": [],
      "authorship_tag": "ABX9TyN2M0oPN7zHt0qfWB5bZV7c",
      "include_colab_link": true
    },
    "kernelspec": {
      "name": "python3",
      "display_name": "Python 3"
    },
    "language_info": {
      "name": "python"
    }
  },
  "cells": [
    {
      "cell_type": "markdown",
      "metadata": {
        "id": "view-in-github",
        "colab_type": "text"
      },
      "source": [
        "<a href=\"https://colab.research.google.com/github/rubaahmedkhan/python-projects-streamlit-website/blob/main/pasword_generator.ipynb\" target=\"_parent\"><img src=\"https://colab.research.google.com/assets/colab-badge.svg\" alt=\"Open In Colab\"/></a>"
      ]
    },
    {
      "cell_type": "code",
      "source": [
        "import random\n",
        "import string\n",
        "\n",
        "# Function to generate a random password\n",
        "def generate_password(password_length: int = 8) -> str:\n",
        "    all_characters: str = string.ascii_letters + string.digits + string.punctuation\n",
        "    password:list[str] = [\n",
        "        random.choice(string.ascii_uppercase),\n",
        "        random.choice(string.ascii_lowercase),\n",
        "        random.choice(string.digits),\n",
        "        random.choice(string.punctuation)\n",
        "    ]\n",
        "    password += random.choices(all_characters, k=password_length - 4)\n",
        "    random.shuffle(password)\n",
        "    return ''.join(password)\n",
        "\n",
        "# Function to validate the user-entered password\n",
        "def validate_password(password: str) -> str:\n",
        "    if len(password) < 8: return \"Password must be at least 8 characters long.\"\n",
        "    if not any(c.isupper() for c in password): return \"Must contain at least one uppercase letter.\"\n",
        "    if not any(c.islower() for c in password): return \"Must contain at least one lowercase letter.\"\n",
        "    if not any(c.isdigit() for c in password): return \"Must contain at least one digit.\"\n",
        "    if not any(c in string.punctuation for c in password): return \"Must contain at least one special character.\"\n",
        "    return \"Password is valid.\"\n",
        "\n",
        "# Function to get a valid \"Yes\" or \"No\" input\n",
        "def get_yes_no_input(prompt: str) -> str:\n",
        "    while True:\n",
        "        user_input: str = input(prompt).strip().lower()\n",
        "        if user_input in ['yes', 'no']: return user_input\n",
        "        print(\"Invalid input. Please enter 'Yes' or 'No'.\")\n",
        "\n",
        "# Main program logic\n",
        "def main():\n",
        "    try:\n",
        "        # Ask user for password generation or manual entry\n",
        "        if get_yes_no_input(\"Do you want to generate a password? (Yes/No): \") == 'yes':\n",
        "            try:\n",
        "                password_length = int(input(\"Enter the desired password length (default is 8): \"))\n",
        "            except ValueError:\n",
        "                password_length = 8  # Default length if invalid input\n",
        "            print(f\"Your generated password is: {generate_password(password_length)}\")\n",
        "        else:\n",
        "            print(\"\\nPassword must meet the following criteria:\\n- At least 8 characters\\n- One uppercase, one lowercase, one digit, one special character.\")\n",
        "            while True:\n",
        "                user_password: str = input(\"\\nEnter your own password: \")\n",
        "                validation_result = validate_password(user_password)\n",
        "                if validation_result == \"Password is valid.\":\n",
        "                    print(f\"Your entered password is: {user_password}\")\n",
        "                    break\n",
        "                else:\n",
        "                    print(validation_result)\n",
        "                    print(\"Please enter a strong password that meets the above criteria.\\n\")\n",
        "    except Exception as e:\n",
        "        print(f\"An error occurred: {e}\")\n",
        "\n",
        "# Run the program\n",
        "if __name__ == \"__main__\":\n",
        "    main()\n"
      ],
      "metadata": {
        "colab": {
          "base_uri": "https://localhost:8080/"
        },
        "id": "sO5ENiQUMn53",
        "outputId": "30b7317d-0e9b-4399-febe-d4408beffcb5"
      },
      "execution_count": null,
      "outputs": [
        {
          "output_type": "stream",
          "name": "stdout",
          "text": [
            "Do you want to generate a password? (Yes/No): no\n",
            "\n",
            "Password must meet the following criteria:\n",
            "- At least 8 characters\n",
            "- One uppercase, one lowercase, one digit, one special character.\n",
            "\n",
            "Enter your own password: hy7$kilg\n",
            "Must contain at least one uppercase letter.\n",
            "Please enter a strong password that meets the above criteria.\n",
            "\n",
            "\n",
            "Enter your own password: bhu76W@ki\n",
            "Your entered password is: bhu76W@ki\n"
          ]
        }
      ]
    }
  ]
}